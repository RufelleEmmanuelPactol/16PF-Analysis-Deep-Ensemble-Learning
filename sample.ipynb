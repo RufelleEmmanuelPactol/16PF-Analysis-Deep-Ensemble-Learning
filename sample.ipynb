{
 "cells": [
  {
   "cell_type": "code",
   "id": "initial_id",
   "metadata": {
    "collapsed": true,
    "ExecuteTime": {
     "end_time": "2024-08-01T12:04:13.179848Z",
     "start_time": "2024-08-01T12:03:14.958848Z"
    }
   },
   "source": [
    "import numpy as np\n",
    "import pandas as pd\n",
    "from matplotlib import pyplot as plt\n",
    "from sklearn.model_selection import KFold\n",
    "from tensorflow.keras.layers import Dense, InputLayer\n",
    "from tensorflow.keras.models import Sequential\n",
    "\n",
    "class TagHolder:\n",
    "\n",
    "    def __init__(self, _id, name):\n",
    "        self.id = _id\n",
    "        self.name = name\n",
    "\n",
    "    def __str__(self):\n",
    "        return self.name\n",
    "\n",
    "\n",
    "def get_tags():\n",
    "    connection = get_engine()\n",
    "    if not connection:\n",
    "        return []\n",
    "\n",
    "    try:\n",
    "        with connection.cursor() as cursor:\n",
    "            cursor.execute(\"SELECT * from datasetTag\")\n",
    "            tags = cursor.fetchall()\n",
    "\n",
    "            tag_holder = []\n",
    "            for tag in tags:\n",
    "                tag_holder.append(TagHolder(tag[0], tag[1]))\n",
    "\n",
    "            return tag_holder\n",
    "    except Exception as e:\n",
    "        return []\n",
    "    finally:\n",
    "        if connection.is_connected():\n",
    "            connection.close()\n",
    "            \n",
    "            \n",
    "from typing import Union\n",
    "\n",
    "import mysql.connector\n",
    "from mysql.connector.abstracts import MySQLConnectionAbstract\n",
    "from mysql.connector.pooling import PooledMySQLConnection\n",
    "from sqlalchemy.ext.declarative import declarative_base\n",
    "\n",
    "Base = declarative_base()\n",
    "def get_engine():\n",
    "    # Create a MySQL connection using mysql.connector\n",
    "    connection = mysql.connector.connect(\n",
    "        host='monorail.proxy.rlwy.net',\n",
    "        port=45826,\n",
    "        user='root',\n",
    "        password='VoUeejgBIkMgYiPmYHxMFsIXffwxCKBK',\n",
    "        database='railway'\n",
    "    )\n",
    "    return connection\n",
    "\n",
    "\n",
    "\n"
   ],
   "outputs": [
    {
     "name": "stderr",
     "output_type": "stream",
     "text": [
      "/Users/rufelleemmanuelpactol/InternshipData/SummerOJT/.venv/lib/python3.9/site-packages/urllib3/__init__.py:35: NotOpenSSLWarning: urllib3 v2 only supports OpenSSL 1.1.1+, currently the 'ssl' module is compiled with 'LibreSSL 2.8.3'. See: https://github.com/urllib3/urllib3/issues/3020\n",
      "  warnings.warn(\n",
      "/var/folders/m3/0c2cdk9j3lvc81rygncqrfy40000gn/T/ipykernel_28793/196199278.py:47: MovedIn20Warning: The ``declarative_base()`` function is now available as sqlalchemy.orm.declarative_base(). (deprecated since: 2.0) (Background on SQLAlchemy 2.0 at: https://sqlalche.me/e/b8d9)\n",
      "  Base = declarative_base()\n"
     ]
    }
   ],
   "execution_count": 1
  },
  {
   "metadata": {},
   "cell_type": "code",
   "outputs": [],
   "execution_count": null,
   "source": "",
   "id": "d8b372c77182191c"
  },
  {
   "metadata": {
    "ExecuteTime": {
     "end_time": "2024-08-01T11:32:08.643496Z",
     "start_time": "2024-08-01T11:32:08.631571Z"
    }
   },
   "cell_type": "code",
   "source": [
    "\n",
    "\n",
    "def build_model(input_shape, num_classes=3):\n",
    "    model = Sequential([\n",
    "        InputLayer(input_shape=(input_shape,)),\n",
    "        Dense(160, activation='relu'),\n",
    "        Dense(160, activation='relu'),\n",
    "        Dense(160, activation='relu'),\n",
    "        Dense(160, activation='relu'),\n",
    "        Dense(160, activation='relu'),\n",
    "        Dense(160, activation='relu'),\n",
    "        Dense(160, activation='relu'),\n",
    "        Dense(160, activation='relu'),\n",
    "        Dense(160, activation='relu'),\n",
    "        Dense(160, activation='relu'),\n",
    "        Dense(160, activation='relu'),\n",
    "        Dense(160, activation='relu'),\n",
    "        Dense(160, activation='relu'),\n",
    "        Dense(160, activation='relu'),\n",
    "        Dense(160, activation='relu'),\n",
    "        Dense(160, activation='relu'),\n",
    "        Dense(num_classes, activation='softmax')\n",
    "    ])\n",
    "    model.compile(loss='sparse_categorical_crossentropy', optimizer='adam', metrics=['accuracy'])\n",
    "    return model\n",
    "\n",
    "def train_nn(df: pd.DataFrame, k=5):\n",
    "    import tensorflow as tf\n",
    "    devices = tf.config.list_physical_devices()\n",
    "    old_grades = df.weighted\n",
    "    df['weighted'] = df.weighted.apply(discretize_weights)\n",
    "\n",
    "    num_classes = 3\n",
    "\n",
    "    # smote = SMOTE(random_state=42)\n",
    "    X_resampled, y_resampled = (df.drop(columns=['weighted']), df['weighted'])\n",
    "\n",
    "    X_resampled = X_resampled.values\n",
    "    y_resampled = y_resampled.values\n",
    "\n",
    "    kf = KFold(n_splits=k, shuffle=True, random_state=42)\n",
    "    fold = 1\n",
    "    all_histories = []\n",
    "    all_evaluations = []\n",
    "\n",
    "    for train_index, test_index in kf.split(X_resampled):\n",
    "        X_train, X_test = X_resampled[train_index], X_resampled[test_index]\n",
    "        y_train, y_test = y_resampled[train_index], y_resampled[test_index]\n",
    "\n",
    "        model = build_model(X_train.shape[1], num_classes)\n",
    "        early_stopping = tf.keras.callbacks.EarlyStopping(monitor='val_loss', patience=10, restore_best_weights=True)\n",
    "\n",
    "\n",
    "        history = model.fit(X_train, y_train, epochs=300, batch_size=15, validation_data=(X_test, y_test), callbacks=[early_stopping], verbose=1)\n",
    "        evaluation = model.evaluate(X_test, y_test)\n",
    "\n",
    "        all_histories.append(history)\n",
    "        all_evaluations.append(evaluation)\n",
    "\n",
    "        ##st.write(f\"Validation Fold {fold} Evaluation: (Log Loss: {evaluation[0]}, Accuracy: {evaluation[1]})\")\n",
    "        fold += 1\n",
    "\n",
    "    avg_evaluation = np.mean(all_evaluations, axis=0)\n",
    "\n",
    "\n",
    "    plt.figure(figsize=(10, 6))\n",
    "    plt.plot(history.history['accuracy'], label='Train Accuracy')\n",
    "    plt.plot(history.history['val_accuracy'], label='Validation Accuracy')\n",
    "    plt.title('Model Accuracy (Last Fold)')\n",
    "    plt.xlabel('Epoch')\n",
    "    plt.ylabel('Accuracy')\n",
    "    plt.ylim([0, 1])\n",
    "    plt.legend(loc='upper right')\n",
    "    plt.grid(True)\n",
    "    ##st.pyplot(plt)\n",
    "\n",
    "    accuracy_diff = np.array(history.history['accuracy']) - np.array(history.history['val_accuracy'])\n",
    "\n",
    "    plt.figure(figsize=(10, 6))\n",
    "    plt.plot(accuracy_diff, label='Train - Validation Accuracy Difference')\n",
    "    plt.title('Train - Validation Accuracy Difference (Last Fold)')\n",
    "    plt.xlabel('Epoch')\n",
    "    plt.ylabel('Accuracy Difference')\n",
    "    plt.legend(loc='upper right')\n",
    "    plt.grid(True)\n",
    "    ##st.pyplot(plt)\n",
    "\n",
    "    w_df = pd.DataFrame(model.predict(pd.DataFrame(df.drop(columns=['weighted']))))\n",
    "    w_df['original'] = (old_grades / 100) * 5\n",
    "    w_df = w_df.rename(columns={0: 'Confidence to Fail', 1: 'Confidence to Pass', 2: 'Confidence to Excel'})\n",
    "\n",
    "    return model, model.evaluate(X_test, y_test)\n"
   ],
   "id": "37e64e9508b34224",
   "outputs": [],
   "execution_count": 5
  },
  {
   "metadata": {
    "ExecuteTime": {
     "end_time": "2024-08-01T11:32:53.318503Z",
     "start_time": "2024-08-01T11:32:53.316333Z"
    }
   },
   "cell_type": "code",
   "source": [
    "def discretize_weights(weight):\n",
    "    if weight < 50:\n",
    "        return 0\n",
    "    if 50 <= weight < 85:\n",
    "        return 1\n",
    "    if 85 <= weight <= 100:\n",
    "        return 2"
   ],
   "id": "3148aa8e29e2240c",
   "outputs": [],
   "execution_count": 7
  },
  {
   "metadata": {
    "ExecuteTime": {
     "end_time": "2024-08-01T11:33:05.321804Z",
     "start_time": "2024-08-01T11:33:05.319146Z"
    }
   },
   "cell_type": "code",
   "source": [
    "def fetch_data_as_dataframe(connection, query: str) -> pd.DataFrame:\n",
    "    cursor = connection.cursor()\n",
    "    cursor.execute(query)\n",
    "    result_set = cursor.fetchall()\n",
    "    column_names = cursor.column_names\n",
    "    cursor.close()\n",
    "    df = pd.DataFrame(result_set, columns=column_names)\n",
    "    return df.dropna()"
   ],
   "id": "62d50ecc8c69f78a",
   "outputs": [],
   "execution_count": 8
  },
  {
   "metadata": {
    "ExecuteTime": {
     "end_time": "2024-08-01T11:32:46.490139Z",
     "start_time": "2024-08-01T11:32:46.487078Z"
    }
   },
   "cell_type": "code",
   "source": [
    "def discretize_weights(weight):\n",
    "    if weight < 50:\n",
    "        return 0\n",
    "    if 50 <= weight < 85:\n",
    "        return 1\n",
    "    if 85 <= weight <= 100:\n",
    "        return 2"
   ],
   "id": "67b7878a0b6feb75",
   "outputs": [],
   "execution_count": 6
  },
  {
   "metadata": {
    "ExecuteTime": {
     "end_time": "2024-08-01T11:35:13.338639Z",
     "start_time": "2024-08-01T11:35:13.334243Z"
    }
   },
   "cell_type": "code",
   "source": [
    "def ModelTrainingComponent():\n",
    "    #st.header(\"Model Training Pipeline 🚀\")\n",
    "    #st.markdown(\"This section is for retraining and training models according to loaded datasets.\")\n",
    "    tags = get_tags()\n",
    "\n",
    "    gen_set = '(5)'\n",
    "    query = f\"\"\"\n",
    "                    SELECT  (grade/5)*100 as weighted, attr_A, attr_B, attr_C, attr_E, attr_F, attr_H, attr_G, attr_I, attr_L, attr_M, attr_N, attr_O, attr_Q1, attr_Q2,\n",
    "                            attr_Q3, attr_Q4, attr_EX, attr_AX, attr_TM, attr_IN, attr_SC, IF(cfit = 'L', 2,\n",
    "                            IF(cfit = 'BA', 4,\n",
    "                            IF(cfit = 'A', 6, \n",
    "                            IF(cfit = 'AA', 8,\n",
    "                            IF(cfit = 'H', 10, NULL))))) as cfit, CASE when course = 'BSCS' then 1 else 0 end as course\n",
    "                    FROM students\n",
    "                    INNER JOIN assessments s on s.student_id = students.Id WHERE tagID in {gen_set};\n",
    "                    \"\"\"\n",
    "\n",
    "    df = fetch_data_as_dataframe(get_engine(), query)\n",
    "    model, result = train_nn(df)\n",
    "\n",
    "    log_loss = result[0]\n",
    "    accuracy = result[1]\n",
    "\n",
    "    model.save('deep-learning-model.keras')\n",
    "            #st.info(f\"Finished training model, with log loss of {log_loss:.4f}, accuracy of {round(accuracy * 100, 2)}%.\")"
   ],
   "id": "b7c9b0af3ce9b90c",
   "outputs": [],
   "execution_count": 9
  },
  {
   "metadata": {
    "jupyter": {
     "is_executing": true
    },
    "ExecuteTime": {
     "start_time": "2024-08-01T11:35:15.394483Z"
    }
   },
   "cell_type": "code",
   "source": "ModelTrainingComponent()",
   "id": "5a0892d81227b581",
   "outputs": [
    {
     "name": "stderr",
     "output_type": "stream",
     "text": [
      "2024-08-01 19:35:15.584 \n",
      "  \u001B[33m\u001B[1mWarning:\u001B[0m to view this Streamlit app on a browser, run it with the following\n",
      "  command:\n",
      "\n",
      "    streamlit run /Users/rufelleemmanuelpactol/InternshipData/SummerOJT/.venv/lib/python3.9/site-packages/ipykernel_launcher.py [ARGUMENTS]\n",
      "2024-08-01 19:35:15.585 No runtime found, using MemoryCacheStorageManager\n"
     ]
    },
    {
     "name": "stdout",
     "output_type": "stream",
     "text": [
      "Epoch 1/300\n"
     ]
    },
    {
     "name": "stderr",
     "output_type": "stream",
     "text": [
      "/Users/rufelleemmanuelpactol/InternshipData/SummerOJT/.venv/lib/python3.9/site-packages/keras/src/layers/core/input_layer.py:26: UserWarning: Argument `input_shape` is deprecated. Use `shape` instead.\n",
      "  warnings.warn(\n"
     ]
    }
   ],
   "execution_count": null
  },
  {
   "metadata": {},
   "cell_type": "code",
   "outputs": [],
   "execution_count": null,
   "source": "",
   "id": "a822fb37ee7f0e43"
  }
 ],
 "metadata": {
  "kernelspec": {
   "display_name": "Python 3",
   "language": "python",
   "name": "python3"
  },
  "language_info": {
   "codemirror_mode": {
    "name": "ipython",
    "version": 2
   },
   "file_extension": ".py",
   "mimetype": "text/x-python",
   "name": "python",
   "nbconvert_exporter": "python",
   "pygments_lexer": "ipython2",
   "version": "2.7.6"
  }
 },
 "nbformat": 4,
 "nbformat_minor": 5
}
